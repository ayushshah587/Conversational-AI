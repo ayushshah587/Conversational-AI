{
 "cells": [
  {
   "cell_type": "markdown",
   "metadata": {
    "id": "pd12nMLv8MMw"
   },
   "source": [
    "#### Data Structures for ML Basics \n",
    "* Dictionaries\n",
    "* Lists\n",
    "* numpy arrays\n",
    "* Pandas Dataframes"
   ]
  },
  {
   "cell_type": "code",
   "execution_count": 1,
   "metadata": {
    "colab": {
     "base_uri": "https://localhost:8080/",
     "height": 0
    },
    "executionInfo": {
     "elapsed": 5,
     "status": "ok",
     "timestamp": 1652128516351,
     "user": {
      "displayName": "Garima Malik",
      "userId": "14288827556748673965"
     },
     "user_tz": 240
    },
    "id": "44F9uTobhAdX",
    "outputId": "af8ceea8-ba8a-4979-d5cb-aac57bb2f1ce"
   },
   "outputs": [
    {
     "name": "stdout",
     "output_type": "stream",
     "text": [
      "Hello world\n"
     ]
    }
   ],
   "source": [
    "print(\"Hello world\")"
   ]
  },
  {
   "cell_type": "code",
   "execution_count": 2,
   "metadata": {
    "colab": {
     "base_uri": "https://localhost:8080/"
    },
    "executionInfo": {
     "elapsed": 14770,
     "status": "ok",
     "timestamp": 1652128698563,
     "user": {
      "displayName": "Garima Malik",
      "userId": "14288827556748673965"
     },
     "user_tz": 240
    },
    "id": "AKiPX8jaiwv9",
    "outputId": "529ffbed-42ed-4dfa-ce87-51b097adc65c"
   },
   "outputs": [
    {
     "name": "stdout",
     "output_type": "stream",
     "text": [
      "Mounted at /content/drive\n"
     ]
    }
   ],
   "source": [
    "from google.colab import drive\n",
    "drive.mount('/content/drive')"
   ]
  },
  {
   "cell_type": "code",
   "execution_count": null,
   "metadata": {
    "id": "7SFNF3PT84tG"
   },
   "outputs": [],
   "source": [
    "list = [1,2,4,5]\n",
    "dicts = {}\n",
    "dicts['Name'] = 'garima'"
   ]
  },
  {
   "cell_type": "code",
   "execution_count": null,
   "metadata": {
    "id": "ZlWicjwI8mqN"
   },
   "outputs": [],
   "source": [
    "# I have a 100,1000 records or roows and i need to find the similar looking rows ... you need to keep a roow index as well (top 10 similar rows)"
   ]
  },
  {
   "cell_type": "code",
   "execution_count": null,
   "metadata": {
    "id": "3K52CpUEjE4i"
   },
   "outputs": [],
   "source": []
  },
  {
   "cell_type": "code",
   "execution_count": null,
   "metadata": {
    "id": "l5VatRgq7r0q"
   },
   "outputs": [],
   "source": [
    "import pandas as pd\n",
    "import numpy as np"
   ]
  },
  {
   "cell_type": "code",
   "execution_count": null,
   "metadata": {
    "id": "0z_fPl2t9kUj"
   },
   "outputs": [],
   "source": [
    "df = pd.read_csv('/content/sample_data/california_housing_test.csv')"
   ]
  },
  {
   "cell_type": "code",
   "execution_count": null,
   "metadata": {
    "colab": {
     "base_uri": "https://localhost:8080/",
     "height": 206
    },
    "executionInfo": {
     "elapsed": 141,
     "status": "ok",
     "timestamp": 1641851367845,
     "user": {
      "displayName": "Garima Malik",
      "photoUrl": "https://lh3.googleusercontent.com/a/default-user=s64",
      "userId": "14288827556748673965"
     },
     "user_tz": 300
    },
    "id": "zIyWR6TL95K8",
    "outputId": "d5a3c12c-0b99-4c52-c103-607723a389c5"
   },
   "outputs": [
    {
     "data": {
      "text/html": [
       "\n",
       "  <div id=\"df-0bba6721-856c-4a69-be2f-c13a01ccb821\">\n",
       "    <div class=\"colab-df-container\">\n",
       "      <div>\n",
       "<style scoped>\n",
       "    .dataframe tbody tr th:only-of-type {\n",
       "        vertical-align: middle;\n",
       "    }\n",
       "\n",
       "    .dataframe tbody tr th {\n",
       "        vertical-align: top;\n",
       "    }\n",
       "\n",
       "    .dataframe thead th {\n",
       "        text-align: right;\n",
       "    }\n",
       "</style>\n",
       "<table border=\"1\" class=\"dataframe\">\n",
       "  <thead>\n",
       "    <tr style=\"text-align: right;\">\n",
       "      <th></th>\n",
       "      <th>longitude</th>\n",
       "      <th>latitude</th>\n",
       "      <th>housing_median_age</th>\n",
       "      <th>total_rooms</th>\n",
       "      <th>total_bedrooms</th>\n",
       "      <th>population</th>\n",
       "      <th>households</th>\n",
       "      <th>median_income</th>\n",
       "      <th>median_house_value</th>\n",
       "    </tr>\n",
       "  </thead>\n",
       "  <tbody>\n",
       "    <tr>\n",
       "      <th>0</th>\n",
       "      <td>-122.05</td>\n",
       "      <td>37.37</td>\n",
       "      <td>27.0</td>\n",
       "      <td>3885.0</td>\n",
       "      <td>661.0</td>\n",
       "      <td>1537.0</td>\n",
       "      <td>606.0</td>\n",
       "      <td>6.6085</td>\n",
       "      <td>344700.0</td>\n",
       "    </tr>\n",
       "    <tr>\n",
       "      <th>1</th>\n",
       "      <td>-118.30</td>\n",
       "      <td>34.26</td>\n",
       "      <td>43.0</td>\n",
       "      <td>1510.0</td>\n",
       "      <td>310.0</td>\n",
       "      <td>809.0</td>\n",
       "      <td>277.0</td>\n",
       "      <td>3.5990</td>\n",
       "      <td>176500.0</td>\n",
       "    </tr>\n",
       "    <tr>\n",
       "      <th>2</th>\n",
       "      <td>-117.81</td>\n",
       "      <td>33.78</td>\n",
       "      <td>27.0</td>\n",
       "      <td>3589.0</td>\n",
       "      <td>507.0</td>\n",
       "      <td>1484.0</td>\n",
       "      <td>495.0</td>\n",
       "      <td>5.7934</td>\n",
       "      <td>270500.0</td>\n",
       "    </tr>\n",
       "    <tr>\n",
       "      <th>3</th>\n",
       "      <td>-118.36</td>\n",
       "      <td>33.82</td>\n",
       "      <td>28.0</td>\n",
       "      <td>67.0</td>\n",
       "      <td>15.0</td>\n",
       "      <td>49.0</td>\n",
       "      <td>11.0</td>\n",
       "      <td>6.1359</td>\n",
       "      <td>330000.0</td>\n",
       "    </tr>\n",
       "    <tr>\n",
       "      <th>4</th>\n",
       "      <td>-119.67</td>\n",
       "      <td>36.33</td>\n",
       "      <td>19.0</td>\n",
       "      <td>1241.0</td>\n",
       "      <td>244.0</td>\n",
       "      <td>850.0</td>\n",
       "      <td>237.0</td>\n",
       "      <td>2.9375</td>\n",
       "      <td>81700.0</td>\n",
       "    </tr>\n",
       "  </tbody>\n",
       "</table>\n",
       "</div>\n",
       "      <button class=\"colab-df-convert\" onclick=\"convertToInteractive('df-0bba6721-856c-4a69-be2f-c13a01ccb821')\"\n",
       "              title=\"Convert this dataframe to an interactive table.\"\n",
       "              style=\"display:none;\">\n",
       "        \n",
       "  <svg xmlns=\"http://www.w3.org/2000/svg\" height=\"24px\"viewBox=\"0 0 24 24\"\n",
       "       width=\"24px\">\n",
       "    <path d=\"M0 0h24v24H0V0z\" fill=\"none\"/>\n",
       "    <path d=\"M18.56 5.44l.94 2.06.94-2.06 2.06-.94-2.06-.94-.94-2.06-.94 2.06-2.06.94zm-11 1L8.5 8.5l.94-2.06 2.06-.94-2.06-.94L8.5 2.5l-.94 2.06-2.06.94zm10 10l.94 2.06.94-2.06 2.06-.94-2.06-.94-.94-2.06-.94 2.06-2.06.94z\"/><path d=\"M17.41 7.96l-1.37-1.37c-.4-.4-.92-.59-1.43-.59-.52 0-1.04.2-1.43.59L10.3 9.45l-7.72 7.72c-.78.78-.78 2.05 0 2.83L4 21.41c.39.39.9.59 1.41.59.51 0 1.02-.2 1.41-.59l7.78-7.78 2.81-2.81c.8-.78.8-2.07 0-2.86zM5.41 20L4 18.59l7.72-7.72 1.47 1.35L5.41 20z\"/>\n",
       "  </svg>\n",
       "      </button>\n",
       "      \n",
       "  <style>\n",
       "    .colab-df-container {\n",
       "      display:flex;\n",
       "      flex-wrap:wrap;\n",
       "      gap: 12px;\n",
       "    }\n",
       "\n",
       "    .colab-df-convert {\n",
       "      background-color: #E8F0FE;\n",
       "      border: none;\n",
       "      border-radius: 50%;\n",
       "      cursor: pointer;\n",
       "      display: none;\n",
       "      fill: #1967D2;\n",
       "      height: 32px;\n",
       "      padding: 0 0 0 0;\n",
       "      width: 32px;\n",
       "    }\n",
       "\n",
       "    .colab-df-convert:hover {\n",
       "      background-color: #E2EBFA;\n",
       "      box-shadow: 0px 1px 2px rgba(60, 64, 67, 0.3), 0px 1px 3px 1px rgba(60, 64, 67, 0.15);\n",
       "      fill: #174EA6;\n",
       "    }\n",
       "\n",
       "    [theme=dark] .colab-df-convert {\n",
       "      background-color: #3B4455;\n",
       "      fill: #D2E3FC;\n",
       "    }\n",
       "\n",
       "    [theme=dark] .colab-df-convert:hover {\n",
       "      background-color: #434B5C;\n",
       "      box-shadow: 0px 1px 3px 1px rgba(0, 0, 0, 0.15);\n",
       "      filter: drop-shadow(0px 1px 2px rgba(0, 0, 0, 0.3));\n",
       "      fill: #FFFFFF;\n",
       "    }\n",
       "  </style>\n",
       "\n",
       "      <script>\n",
       "        const buttonEl =\n",
       "          document.querySelector('#df-0bba6721-856c-4a69-be2f-c13a01ccb821 button.colab-df-convert');\n",
       "        buttonEl.style.display =\n",
       "          google.colab.kernel.accessAllowed ? 'block' : 'none';\n",
       "\n",
       "        async function convertToInteractive(key) {\n",
       "          const element = document.querySelector('#df-0bba6721-856c-4a69-be2f-c13a01ccb821');\n",
       "          const dataTable =\n",
       "            await google.colab.kernel.invokeFunction('convertToInteractive',\n",
       "                                                     [key], {});\n",
       "          if (!dataTable) return;\n",
       "\n",
       "          const docLinkHtml = 'Like what you see? Visit the ' +\n",
       "            '<a target=\"_blank\" href=https://colab.research.google.com/notebooks/data_table.ipynb>data table notebook</a>'\n",
       "            + ' to learn more about interactive tables.';\n",
       "          element.innerHTML = '';\n",
       "          dataTable['output_type'] = 'display_data';\n",
       "          await google.colab.output.renderOutput(dataTable, element);\n",
       "          const docLink = document.createElement('div');\n",
       "          docLink.innerHTML = docLinkHtml;\n",
       "          element.appendChild(docLink);\n",
       "        }\n",
       "      </script>\n",
       "    </div>\n",
       "  </div>\n",
       "  "
      ],
      "text/plain": [
       "   longitude  latitude  ...  median_income  median_house_value\n",
       "0    -122.05     37.37  ...         6.6085            344700.0\n",
       "1    -118.30     34.26  ...         3.5990            176500.0\n",
       "2    -117.81     33.78  ...         5.7934            270500.0\n",
       "3    -118.36     33.82  ...         6.1359            330000.0\n",
       "4    -119.67     36.33  ...         2.9375             81700.0\n",
       "\n",
       "[5 rows x 9 columns]"
      ]
     },
     "execution_count": 3,
     "metadata": {},
     "output_type": "execute_result"
    }
   ],
   "source": [
    "df.head()"
   ]
  },
  {
   "cell_type": "code",
   "execution_count": 3,
   "metadata": {
    "executionInfo": {
     "elapsed": 111,
     "status": "ok",
     "timestamp": 1652129080407,
     "user": {
      "displayName": "Garima Malik",
      "userId": "14288827556748673965"
     },
     "user_tz": 240
    },
    "id": "c8_dz_DOjpLM"
   },
   "outputs": [],
   "source": [
    "def add(a,b):\n",
    "  return a+b"
   ]
  },
  {
   "cell_type": "code",
   "execution_count": null,
   "metadata": {
    "colab": {
     "base_uri": "https://localhost:8080/"
    },
    "executionInfo": {
     "elapsed": 115,
     "status": "ok",
     "timestamp": 1641851540019,
     "user": {
      "displayName": "Garima Malik",
      "photoUrl": "https://lh3.googleusercontent.com/a/default-user=s64",
      "userId": "14288827556748673965"
     },
     "user_tz": 300
    },
    "id": "65g8-Wx9-UrI",
    "outputId": "bdae24f9-6b2e-4f93-ae73-6193956b36ad"
   },
   "outputs": [
    {
     "data": {
      "text/plain": [
       "11"
      ]
     },
     "execution_count": 4,
     "metadata": {},
     "output_type": "execute_result"
    }
   ],
   "source": [
    "def add(a,b):\n",
    "  return a+b\n",
    "\n",
    "add(5,6)\n"
   ]
  },
  {
   "cell_type": "code",
   "execution_count": null,
   "metadata": {
    "id": "mUZDTvRfkcW_"
   },
   "outputs": [],
   "source": [
    "def add(a,b):\n",
    "  \"\"\"\n",
    "  input: two numbers\n",
    "  output: addition of two numbers\n",
    "  \"\"\"\n",
    "  "
   ]
  },
  {
   "cell_type": "markdown",
   "metadata": {
    "id": "4fQpjp9likI_"
   },
   "source": [
    "# Declaring a function"
   ]
  },
  {
   "cell_type": "code",
   "execution_count": null,
   "metadata": {
    "id": "DszU2iINikJE"
   },
   "outputs": [],
   "source": [
    "# Function definition is here\n",
    "def printme(str1):\n",
    "    #\"This prints a passed string into this function\"\n",
    "    print(str1)\n",
    "    return"
   ]
  },
  {
   "cell_type": "markdown",
   "metadata": {
    "id": "hvoQmkMWikJF"
   },
   "source": [
    "# Calling the function"
   ]
  },
  {
   "cell_type": "code",
   "execution_count": null,
   "metadata": {
    "colab": {
     "base_uri": "https://localhost:8080/"
    },
    "id": "MAuzOye6ikJG",
    "outputId": "8da04543-5405-4280-b52b-f8f9b52825ae"
   },
   "outputs": [
    {
     "name": "stdout",
     "output_type": "stream",
     "text": [
      "I'm first call to user defined function!\n",
      "Again second call to the same function\n"
     ]
    }
   ],
   "source": [
    "# Now you can call printme function\n",
    "printme(\"I'm first call to user defined function!\")\n",
    "printme(\"Again second call to the same function\")"
   ]
  },
  {
   "cell_type": "code",
   "execution_count": null,
   "metadata": {
    "id": "VWAAeO0LkIYI"
   },
   "outputs": [],
   "source": [
    "def add(num1,num2):\n",
    "  if num1 > 0 and num2 > 0:\n",
    "    result = num1 + num2\n",
    "    print(\"The results is \", result)\n",
    "    return\n",
    "  else:\n",
    "    print(\"invalid input\")\n",
    "    return "
   ]
  },
  {
   "cell_type": "code",
   "execution_count": null,
   "metadata": {
    "colab": {
     "base_uri": "https://localhost:8080/"
    },
    "id": "mCaBzSjMkgwM",
    "outputId": "734857ac-e0cd-4b25-c0a0-66906fd66abe"
   },
   "outputs": [
    {
     "name": "stdout",
     "output_type": "stream",
     "text": [
      "invalid input\n"
     ]
    }
   ],
   "source": [
    "add(-9,0)"
   ]
  },
  {
   "cell_type": "markdown",
   "metadata": {
    "id": "vLWAlkJ7lRG3"
   },
   "source": [
    "#### Hint for the below function"
   ]
  },
  {
   "cell_type": "code",
   "execution_count": null,
   "metadata": {
    "id": "p6CoyX-cktj9"
   },
   "outputs": [],
   "source": []
  },
  {
   "cell_type": "code",
   "execution_count": null,
   "metadata": {
    "colab": {
     "base_uri": "https://localhost:8080/"
    },
    "id": "bAC_O0zPlF3x",
    "outputId": "82e54f34-cca7-429e-cfb6-c18b5f6b291c"
   },
   "outputs": [
    {
     "name": "stdout",
     "output_type": "stream",
     "text": [
      "G\n",
      "a\n",
      "r\n",
      "i\n",
      "m\n",
      "a\n"
     ]
    }
   ],
   "source": [
    "a = 'Garima'\n",
    "for i in a:\n",
    "  print(i)"
   ]
  },
  {
   "cell_type": "markdown",
   "metadata": {
    "id": "cYTa8UJckuxc"
   },
   "source": [
    "#### Write the function to calculate the length of the string"
   ]
  },
  {
   "cell_type": "code",
   "execution_count": null,
   "metadata": {
    "id": "MQ2kBB30ksyU"
   },
   "outputs": [],
   "source": [
    "def cal_length_string(str):\n",
    "  length = 0\n",
    "  for i in str:\n",
    "    length = length + 1\n",
    "  return length"
   ]
  },
  {
   "cell_type": "code",
   "execution_count": null,
   "metadata": {
    "colab": {
     "base_uri": "https://localhost:8080/"
    },
    "id": "w17tqFlwubZr",
    "outputId": "b99b43b4-6d3c-417d-bf1d-6305cd7f25e3"
   },
   "outputs": [
    {
     "name": "stdout",
     "output_type": "stream",
     "text": [
      "15\n"
     ]
    }
   ],
   "source": [
    "res = cal_length_string(\"this is my room\")\n",
    "print(res)"
   ]
  },
  {
   "cell_type": "markdown",
   "metadata": {
    "id": "Hqsr5I6Bv1D2"
   },
   "source": [
    "#### Write a function to calculate the area of circle and return the area"
   ]
  },
  {
   "cell_type": "code",
   "execution_count": null,
   "metadata": {
    "id": "hmXeniCav0F8"
   },
   "outputs": [],
   "source": [
    "def cal_area(radius):\n",
    "  if radius > 0:\n",
    "    area = 3.14 * radius * radius\n",
    "    return area\n",
    "  else:\n",
    "    print(\"invalid input\")\n",
    "    return "
   ]
  },
  {
   "cell_type": "code",
   "execution_count": null,
   "metadata": {
    "colab": {
     "base_uri": "https://localhost:8080/"
    },
    "id": "5Dse-Kgjzfty",
    "outputId": "f64606e2-76b2-4cc4-ce2d-f2624c5bf830"
   },
   "outputs": [
    {
     "name": "stdout",
     "output_type": "stream",
     "text": [
      "the area is 78.5 m^2\n"
     ]
    }
   ],
   "source": [
    "result = cal_area(5)\n",
    "print(\"the area is \"+ str(result)+\" m^2\")"
   ]
  },
  {
   "cell_type": "markdown",
   "metadata": {
    "id": "RKafqAnLikJH"
   },
   "source": [
    "# Function arguments in Python"
   ]
  },
  {
   "cell_type": "code",
   "execution_count": null,
   "metadata": {
    "id": "_81yzhjhkgTE"
   },
   "outputs": [],
   "source": []
  },
  {
   "cell_type": "markdown",
   "metadata": {
    "id": "qD5d4Jb7ikJH"
   },
   "source": [
    "# Default argument"
   ]
  },
  {
   "cell_type": "code",
   "execution_count": null,
   "metadata": {
    "id": "o5amtCJvikJH",
    "outputId": "66ff579a-4224-4bc9-c295-ee9f93668abc"
   },
   "outputs": [
    {
     "data": {
      "text/plain": [
       "3"
      ]
     },
     "execution_count": 13,
     "metadata": {
      "tags": []
     },
     "output_type": "execute_result"
    }
   ],
   "source": [
    "# Define `plus()` function\n",
    "def plus(a,b = 2):\n",
    "    return a + b\n",
    "  \n",
    "# Call `plus()` with only `a` parameter\n",
    "plus(a=1)"
   ]
  },
  {
   "cell_type": "code",
   "execution_count": null,
   "metadata": {
    "id": "IIVuBVmY_mGI"
   },
   "outputs": [],
   "source": [
    "def simple_interest(p,t,r = 0.1):\n",
    "  return (p*r*t)/100"
   ]
  },
  {
   "cell_type": "code",
   "execution_count": null,
   "metadata": {
    "colab": {
     "base_uri": "https://localhost:8080/"
    },
    "executionInfo": {
     "elapsed": 116,
     "status": "ok",
     "timestamp": 1641851867266,
     "user": {
      "displayName": "Garima Malik",
      "photoUrl": "https://lh3.googleusercontent.com/a/default-user=s64",
      "userId": "14288827556748673965"
     },
     "user_tz": 300
    },
    "id": "lvkbCWtO_vQF",
    "outputId": "ba937599-88ac-4903-f21e-13b96ff6cb16"
   },
   "outputs": [
    {
     "data": {
      "text/plain": [
       "20.0"
      ]
     },
     "execution_count": 7,
     "metadata": {},
     "output_type": "execute_result"
    }
   ],
   "source": [
    "simple_interest(10000,2)"
   ]
  },
  {
   "cell_type": "code",
   "execution_count": null,
   "metadata": {
    "id": "cbJnwMPZikJI",
    "outputId": "6981f9f2-1d01-41c2-9a07-01b7f4aae7b5"
   },
   "outputs": [
    {
     "data": {
      "text/plain": [
       "4"
      ]
     },
     "execution_count": 14,
     "metadata": {
      "tags": []
     },
     "output_type": "execute_result"
    }
   ],
   "source": [
    "# Call `plus()` with `a` and `b` parameters\n",
    "plus(a=1, b=3)"
   ]
  },
  {
   "cell_type": "markdown",
   "metadata": {
    "id": "r6oj0gKMikJI"
   },
   "source": [
    "# Required arguments"
   ]
  },
  {
   "cell_type": "code",
   "execution_count": null,
   "metadata": {
    "id": "Pv5_AClwikJI"
   },
   "outputs": [],
   "source": [
    "# Define `plus()` with required arguments\n",
    "def plus(a,b):\n",
    "      return a + b"
   ]
  },
  {
   "cell_type": "code",
   "execution_count": null,
   "metadata": {
    "colab": {
     "base_uri": "https://localhost:8080/"
    },
    "executionInfo": {
     "elapsed": 3043,
     "status": "ok",
     "timestamp": 1641851991523,
     "user": {
      "displayName": "Garima Malik",
      "photoUrl": "https://lh3.googleusercontent.com/a/default-user=s64",
      "userId": "14288827556748673965"
     },
     "user_tz": 300
    },
    "id": "yQ18_VoVADiJ",
    "outputId": "b4e7e5fb-509a-4dda-c66d-b0229f34948c"
   },
   "outputs": [
    {
     "name": "stdout",
     "output_type": "stream",
     "text": [
      "45\n"
     ]
    },
    {
     "data": {
      "text/plain": [
       "45"
      ]
     },
     "execution_count": 12,
     "metadata": {},
     "output_type": "execute_result"
    }
   ],
   "source": [
    "int(input())"
   ]
  },
  {
   "cell_type": "markdown",
   "metadata": {
    "id": "vTHvyhn3ikJJ"
   },
   "source": [
    "# Keyword arguments"
   ]
  },
  {
   "cell_type": "code",
   "execution_count": null,
   "metadata": {
    "id": "88kkFSeqikJJ",
    "outputId": "c49f5b95-4492-486a-8b4b-fedb322a775d"
   },
   "outputs": [
    {
     "data": {
      "text/plain": [
       "5"
      ]
     },
     "execution_count": 18,
     "metadata": {
      "tags": []
     },
     "output_type": "execute_result"
    }
   ],
   "source": [
    "# Define `plus()` function\n",
    "def plus(a,b):\n",
    "      return a + b\n",
    "    \n",
    "# Call `plus()` function with parameters \n",
    "plus(2,3)"
   ]
  },
  {
   "cell_type": "code",
   "execution_count": null,
   "metadata": {
    "id": "-E4Zv-4qikJJ",
    "outputId": "69880da4-2494-4013-bdb6-f39002adf5a2"
   },
   "outputs": [
    {
     "data": {
      "text/plain": [
       "3"
      ]
     },
     "execution_count": 19,
     "metadata": {
      "tags": []
     },
     "output_type": "execute_result"
    }
   ],
   "source": [
    "# Call `plus()` function with keyword arguments\n",
    "plus(a=1, b=2)"
   ]
  },
  {
   "cell_type": "markdown",
   "metadata": {
    "id": "_tnQQLOcikJJ"
   },
   "source": [
    "# Local variables"
   ]
  },
  {
   "cell_type": "code",
   "execution_count": null,
   "metadata": {
    "id": "_-7ItQ8LikJK",
    "outputId": "aa5532cf-37d3-4d7b-be08-7741ca44628d"
   },
   "outputs": [
    {
     "name": "stdout",
     "output_type": "stream",
     "text": [
      "300\n"
     ]
    }
   ],
   "source": [
    "def myfunc():\n",
    "    x = 300\n",
    "    print(x)\n",
    "\n",
    "myfunc()"
   ]
  },
  {
   "cell_type": "markdown",
   "metadata": {
    "id": "Qihe_SyuikJK"
   },
   "source": [
    "# Global variables"
   ]
  },
  {
   "cell_type": "code",
   "execution_count": null,
   "metadata": {
    "id": "8jt86ZmZikJK",
    "outputId": "0fb0afd3-89e0-4a33-fa60-d85003afb2e3"
   },
   "outputs": [
    {
     "name": "stdout",
     "output_type": "stream",
     "text": [
      "Calling the method : 300\n",
      "Global variable : 300\n"
     ]
    }
   ],
   "source": [
    "x = 300\n",
    "\n",
    "def myfunc():\n",
    "    print(\"Calling the method :\",x)\n",
    "\n",
    "myfunc()\n",
    "print(\"Global variable :\",x)"
   ]
  },
  {
   "cell_type": "code",
   "execution_count": null,
   "metadata": {
    "id": "LFGycnqwikJK"
   },
   "outputs": [],
   "source": [
    "from sort import sort_list"
   ]
  },
  {
   "cell_type": "code",
   "execution_count": null,
   "metadata": {
    "colab": {
     "base_uri": "https://localhost:8080/"
    },
    "id": "x37aSOQLiqX5",
    "outputId": "07b1540c-ab7a-4273-9c81-ff70051100d6"
   },
   "outputs": [
    {
     "name": "stdout",
     "output_type": "stream",
     "text": [
      "[0, 4, 5, 7, 8, 9]\n"
     ]
    }
   ],
   "source": [
    "sort_list([0,9,8,7,5,4])"
   ]
  },
  {
   "cell_type": "code",
   "execution_count": 4,
   "metadata": {
    "executionInfo": {
     "elapsed": 146,
     "status": "ok",
     "timestamp": 1652129378177,
     "user": {
      "displayName": "Garima Malik",
      "userId": "14288827556748673965"
     },
     "user_tz": 240
    },
    "id": "yTt9K2V0iuFe"
   },
   "outputs": [],
   "source": [
    "import numpy as np"
   ]
  },
  {
   "cell_type": "code",
   "execution_count": null,
   "metadata": {
    "id": "XQ87gQcvla1g"
   },
   "outputs": [],
   "source": [
    "from numpy import array"
   ]
  }
 ],
 "metadata": {
  "colab": {
   "name": "python_functions.ipynb",
   "provenance": []
  },
  "kernelspec": {
   "display_name": "Python 3 (ipykernel)",
   "language": "python",
   "name": "python3"
  },
  "language_info": {
   "codemirror_mode": {
    "name": "ipython",
    "version": 3
   },
   "file_extension": ".py",
   "mimetype": "text/x-python",
   "name": "python",
   "nbconvert_exporter": "python",
   "pygments_lexer": "ipython3",
   "version": "3.10.7"
  }
 },
 "nbformat": 4,
 "nbformat_minor": 1
}
